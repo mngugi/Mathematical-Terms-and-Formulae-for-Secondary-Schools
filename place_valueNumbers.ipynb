{
  "nbformat": 4,
  "nbformat_minor": 0,
  "metadata": {
    "colab": {
      "provenance": [],
      "authorship_tag": "ABX9TyPRGSB2cBQOMe4GLk9X4Tyb",
      "include_colab_link": true
    },
    "kernelspec": {
      "name": "python3",
      "display_name": "Python 3"
    },
    "language_info": {
      "name": "python"
    }
  },
  "cells": [
    {
      "cell_type": "markdown",
      "metadata": {
        "id": "view-in-github",
        "colab_type": "text"
      },
      "source": [
        "<a href=\"https://colab.research.google.com/github/mngugi/Mathematical-Terms-and-Formulae-for-Secondary-Schools/blob/master/place_valueNumbers.ipynb\" target=\"_parent\"><img src=\"https://colab.research.google.com/assets/colab-badge.svg\" alt=\"Open In Colab\"/></a>"
      ]
    },
    {
      "cell_type": "code",
      "execution_count": 3,
      "metadata": {
        "colab": {
          "base_uri": "https://localhost:8080/"
        },
        "id": "kbMUG8b9wkvR",
        "outputId": "01b44bf6-2c53-4be3-b830-ac81910a1c97"
      },
      "outputs": [
        {
          "output_type": "stream",
          "name": "stdout",
          "text": [
            "Enter a number: 1236698874213\n",
            "Place Value  | Value \n",
            "----------------------\n",
            "Trillions    | 1     \n",
            "Billions     | 236   \n",
            "Millions     | 698   \n",
            "Thousands    | 874   \n",
            "Hundreds     | 2     \n",
            "Tens         | 1     \n",
            "Ones         | 3     \n"
          ]
        }
      ],
      "source": [
        "def split_into_place_values(number):\n",
        "    # Define place value names\n",
        "    place_values = [\"Trillions\", \"Billions\", \"Millions\", \"Thousands\", \"Hundreds\", \"Tens\", \"Ones\"]\n",
        "    # Define place value magnitudes\n",
        "    magnitudes = [10**12, 10**9, 10**6, 10**3, 10**2, 10, 1]\n",
        "\n",
        "    place_value_dict = {}\n",
        "\n",
        "    for place, magnitude in zip(place_values, magnitudes):\n",
        "        place_value_dict[place] = number // magnitude\n",
        "        number %= magnitude\n",
        "\n",
        "    return place_value_dict\n",
        "\n",
        "def print_place_value_table(place_value_dict):\n",
        "    print(f\"{'Place Value':<12} | {'Value':<6}\")\n",
        "    print('-' * 22)\n",
        "    for place, value in place_value_dict.items():\n",
        "        print(f\"{place:<12} | {value:<6}\")\n",
        "\n",
        "def main():\n",
        "    # Prompt the user to enter a number\n",
        "    number = int(input(\"Enter a number: \"))\n",
        "\n",
        "    # Get the place value representation\n",
        "    place_value_dict = split_into_place_values(number)\n",
        "\n",
        "    # Print the place value table\n",
        "    print_place_value_table(place_value_dict)\n",
        "\n",
        "if __name__ == \"__main__\":\n",
        "    main()\n"
      ]
    }
  ]
}