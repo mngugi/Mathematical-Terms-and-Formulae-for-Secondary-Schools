{
  "nbformat": 4,
  "nbformat_minor": 0,
  "metadata": {
    "colab": {
      "provenance": [],
      "authorship_tag": "ABX9TyPfKxOC4dpg/XlzGNl5qMpw",
      "include_colab_link": true
    },
    "kernelspec": {
      "name": "python3",
      "display_name": "Python 3"
    },
    "language_info": {
      "name": "python"
    }
  },
  "cells": [
    {
      "cell_type": "markdown",
      "metadata": {
        "id": "view-in-github",
        "colab_type": "text"
      },
      "source": [
        "<a href=\"https://colab.research.google.com/github/mngugi/Mathematical-Terms-and-Formulae-for-Secondary-Schools/blob/master/multipleandDivisibilityTests.ipynb\" target=\"_parent\"><img src=\"https://colab.research.google.com/assets/colab-badge.svg\" alt=\"Open In Colab\"/></a>"
      ]
    },
    {
      "cell_type": "code",
      "execution_count": null,
      "metadata": {
        "id": "cwGK7TU_L0aH"
      },
      "outputs": [],
      "source": [
        "def find_multiples(number, limit):\n",
        "    multiples = []\n",
        "    for i in range(1, limit + 1):\n",
        "        multiple = number * i\n",
        "        multiples.append(multiple)\n",
        "    return multiples\n",
        "\n",
        "def is_divisible(dividend, divisor):\n",
        "    return dividend % divisor == 0\n",
        "\n",
        "def main():\n",
        "    # Prompt the user to enter a number and the limit\n",
        "    number = int(input(\"Enter a number: \"))\n",
        "    limit = int(input(\"Enter the limit: \"))\n",
        "\n",
        "    multiples_of_number = find_multiples(number, limit)\n",
        "\n",
        "    for multiple in multiples_of_number:\n",
        "        print(f'{multiple}:')\n",
        "        print(f'  Divisible by 2: {\"Yes\" if is_divisible(multiple, 2) else \"No\"}')\n",
        "        print(f'  Divisible by 3: {\"Yes\" if is_divisible(multiple, 3) else \"No\"}')\n",
        "        print(f'  Divisible by 5: {\"Yes\" if is_divisible(multiple, 5) else \"No\"}')\n",
        "\n",
        "if __name__ == \"__main__\":\n",
        "    main()\n"
      ]
    }
  ]
}